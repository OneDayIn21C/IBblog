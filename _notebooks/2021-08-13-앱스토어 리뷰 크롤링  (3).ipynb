{
 "cells": [
  {
   "cell_type": "markdown",
   "id": "4963713f",
   "metadata": {},
   "source": [
    "# \"앱스토어 리뷰 크롤링\"\n",
    "> \"selenium을 활용해 동적 페이지 앱스토어 리뷰 데이터 크롤링\"\n",
    "\n",
    "- toc:true\n",
    "- branch: master\n",
    "- badges: true\n",
    "- comments: true\n",
    "- author: ib choi\n",
    "- categories: [Selenium, jupyter, BigQuery]"
   ]
  },
  {
   "cell_type": "code",
   "execution_count": 27,
   "id": "fc652fb4",
   "metadata": {
    "ExecuteTime": {
     "end_time": "2021-08-05T09:21:08.852231Z",
     "start_time": "2021-08-05T09:21:08.848938Z"
    }
   },
   "outputs": [],
   "source": [
    "from selenium import webdriver\n",
    "from selenium.webdriver.common.keys import Keys\n",
    "from selenium.webdriver.remote.webelement import WebElement\n",
    "from selenium.webdriver import ActionChains\n",
    "import time\n",
    "from selenium.webdriver.support.ui import WebDriverWait\n",
    "from selenium.webdriver.support import expected_conditions as EC\n",
    "import pandas as pd\n",
    "\n",
    "import string\n",
    "import datetime \n",
    "\n",
    "from bs4 import BeautifulSoup\n",
    "import requests"
   ]
  },
  {
   "cell_type": "code",
   "execution_count": 28,
   "id": "d269ca4a",
   "metadata": {
    "ExecuteTime": {
     "end_time": "2021-08-05T09:21:09.114080Z",
     "start_time": "2021-08-05T09:21:09.112134Z"
    }
   },
   "outputs": [],
   "source": [
    "import pandas as pd\n",
    "import pymysql"
   ]
  },
  {
   "cell_type": "markdown",
   "id": "49a40f63",
   "metadata": {},
   "source": [
    "# 1.  데이터 크롤링"
   ]
  },
  {
   "cell_type": "markdown",
   "id": "4d7c866b",
   "metadata": {},
   "source": [
    "## 1-1. 동적 페이지 데이터 불러오기 (chromdriver 활용)"
   ]
  },
  {
   "cell_type": "code",
   "execution_count": 29,
   "id": "dc4830d9",
   "metadata": {
    "ExecuteTime": {
     "end_time": "2021-08-05T09:21:25.132345Z",
     "start_time": "2021-08-05T09:21:13.186477Z"
    }
   },
   "outputs": [],
   "source": [
    "chromedriver = '/usr/local/bin/chromedriver'\n",
    "driver = webdriver.Chrome(chromedriver)\n",
    "\n",
    "# 앱스토어 자란다 페이지\n",
    "driver.get(\n",
    "    \"https://apps.apple.com/kr/app/%EC%9E%90%EB%9E%80%EB%8B%A4/id1469857402#see-all/reviews\"\n",
    ")\n",
    "\n",
    "# 동적 페이지의 데이터를 모두 불러오기 위해 스크롤을 가장 아래까지 내림\n",
    "\n",
    "prev_height = driver.execute_script(\"return document.body.scrollHeight\")\n",
    "while True:\n",
    "    # 스크롤을 화면 가장 아래로 내린다\n",
    "    driver.execute_script(\"window.scrollTo(0,document.body.scrollHeight)\")\n",
    "\n",
    "    # 페이지 로딩 대기\n",
    "    time.sleep(0.5)\n",
    "\n",
    "    # 현재 문서 높이를 가져와서 저장\n",
    "    curr_height = driver.execute_script(\"return document.body.scrollHeight\")\n",
    "\n",
    "    if (curr_height == prev_height):\n",
    "        break\n",
    "    else:\n",
    "        prev_height = driver.execute_script(\n",
    "            \"return document.body.scrollHeight\")\n",
    "        \n",
    "curr_height"
   ]
  },
  {
   "cell_type": "markdown",
   "id": "d1a3d570",
   "metadata": {},
   "source": [
    "\n",
    "## 1-2. 개별 리뷰 박스의 ID 크롤링"
   ]
  },
  {
   "cell_type": "code",
   "execution_count": 30,
   "id": "803d0763",
   "metadata": {
    "ExecuteTime": {
     "end_time": "2021-08-05T09:21:38.603917Z",
     "start_time": "2021-08-05T09:21:38.439006Z"
    }
   },
   "outputs": [
    {
     "name": "stdout",
     "output_type": "stream",
     "text": [
      "['ember89', 'ember91', 'ember93']\n",
      "\n",
      " 리뷰 박스 개수 = 45 개\n"
     ]
    }
   ],
   "source": [
    "box=driver.find_elements_by_class_name('l-column--equal-height')\n",
    "\n",
    "box_id = []\n",
    "for i in box:\n",
    "    box_id.append(i.get_attribute('id'))\n",
    "\n",
    "    \n",
    "print(box_id[:3])\n",
    "print(\"\\n 리뷰 박스 개수 =\", len(box_id),'개')"
   ]
  },
  {
   "cell_type": "markdown",
   "id": "b6184546",
   "metadata": {},
   "source": [
    "## 1-3. 리뷰 데이터 크롤링"
   ]
  },
  {
   "cell_type": "markdown",
   "id": "14c12340",
   "metadata": {},
   "source": [
    "앱스토어의 리뷰 데이터는 (1) 코멘트의 길이가 길거나 혹은 (2) 개발자의 답변이 있을 경우, \\\n",
    "개별 리뷰 박스의 '더 보기' 버튼을 클릭해 데이터를 추가로 불어와야 크롤링 가능"
   ]
  },
  {
   "cell_type": "code",
   "execution_count": 64,
   "id": "658dfff6",
   "metadata": {
    "ExecuteTime": {
     "end_time": "2021-08-03T18:14:10.975799Z",
     "start_time": "2021-08-03T18:14:10.944670Z"
    }
   },
   "outputs": [
    {
     "data": {
      "text/plain": [
       "'아이가 공부를 너무 하기 싫어해서 고민이였는데 샘들이 친구처럼 놀아주면서 하니까 학습 효과가 너무 좋네요^^ 자주 애용해야겠어요. 아들두 쌤 또 언제 오냐구 그러고… 일반 학습지보다 나은듯~. 만족합니다^^'"
      ]
     },
     "execution_count": 64,
     "metadata": {},
     "output_type": "execute_result"
    }
   ],
   "source": [
    "driver.find_element_by_id('ember101').find_element_by_class_name('we-clamp').text"
   ]
  },
  {
   "cell_type": "code",
   "execution_count": 31,
   "id": "bab134e3",
   "metadata": {
    "ExecuteTime": {
     "end_time": "2021-08-05T09:21:57.814764Z",
     "start_time": "2021-08-05T09:21:57.765876Z"
    }
   },
   "outputs": [],
   "source": [
    "stars = driver.find_elements_by_class_name('we-star-rating--large') # 별점\n",
    "date = driver.find_elements_by_class_name('we-customer-review__date') # 작성일\n",
    "user = driver.find_elements_by_class_name('we-customer-review__user') # 작성자\n",
    "title = driver.find_elements_by_class_name('we-customer-review__title') # 제목"
   ]
  },
  {
   "cell_type": "code",
   "execution_count": 32,
   "id": "aa8e0ae7",
   "metadata": {
    "ExecuteTime": {
     "end_time": "2021-08-05T09:22:31.887669Z",
     "start_time": "2021-08-05T09:22:17.177921Z"
    },
    "hide_input": false
   },
   "outputs": [
    {
     "name": "stdout",
     "output_type": "stream",
     "text": [
      "(0, 'ember89') pass\n",
      "(1, 'ember91') pass\n",
      "(2, 'ember93') pass\n",
      "(3, 'ember95') 더 보기 클릭\n",
      "(4, 'ember97') 더 보기 클릭\n",
      "(5, 'ember99') 더 보기 클릭\n",
      "(6, 'ember101') 더 보기 클릭\n",
      "(7, 'ember103') 더 보기 클릭\n",
      "(8, 'ember105') 더 보기 클릭\n",
      "(9, 'ember107') 더 보기 클릭\n",
      "(10, 'ember120') 더 보기 클릭\n",
      "(11, 'ember122') 더 보기 클릭\n",
      "(12, 'ember124') 더 보기 클릭\n",
      "(13, 'ember126') 더 보기 클릭\n",
      "(14, 'ember128') 더 보기 클릭\n",
      "(15, 'ember130') 더 보기 클릭\n",
      "(16, 'ember132') 더 보기 클릭\n",
      "(17, 'ember134') 더 보기 클릭\n",
      "(18, 'ember136') 더 보기 클릭\n",
      "(19, 'ember138') 더 보기 클릭\n",
      "(20, 'ember150') 더 보기 클릭\n",
      "(21, 'ember152') 더 보기 클릭\n",
      "(22, 'ember154') 더 보기 클릭\n",
      "(23, 'ember156') 더 보기 클릭\n",
      "(24, 'ember158') 더 보기 클릭\n",
      "(25, 'ember160') 더 보기 클릭\n",
      "(26, 'ember162') 더 보기 클릭\n",
      "(27, 'ember164') 더 보기 클릭\n",
      "(28, 'ember166') 더 보기 클릭\n",
      "(29, 'ember168') 더 보기 클릭\n",
      "(30, 'ember180') 더 보기 클릭\n",
      "(31, 'ember182') 더 보기 클릭\n",
      "(32, 'ember184') 더 보기 클릭\n",
      "(33, 'ember186') 더 보기 클릭\n",
      "(34, 'ember188') pass\n",
      "(35, 'ember190') 더 보기 클릭\n",
      "(36, 'ember192') 더 보기 클릭\n",
      "(37, 'ember194') pass\n",
      "(38, 'ember196') 더 보기 클릭\n",
      "(39, 'ember198') 더 보기 클릭\n",
      "(40, 'ember205') pass\n",
      "(41, 'ember207') 더 보기 클릭\n",
      "(42, 'ember209') 더 보기 클릭\n",
      "(43, 'ember211') pass\n",
      "(44, 'ember213') 더 보기 클릭\n",
      "\n",
      " 크롤링 완료\n"
     ]
    }
   ],
   "source": [
    "review = []\n",
    "for id in enumerate(box_id):\n",
    "    \n",
    "    # 데이터 로드 대기\n",
    "#     time.sleep(1)\n",
    "    \n",
    "    # 박스에 '더 보기' 버튼이 있을 경우\n",
    "    try:\n",
    "        # '더 보기' 클릭\n",
    "        button = driver.find_element_by_css_selector(\n",
    "            f\"#{id[1]} > div.we-customer-review.lockup > blockquote:nth-child(4) > button\"\n",
    "        )\n",
    "        button.click()\n",
    "        time.sleep(0.2)\n",
    "\n",
    "        review.append(\n",
    "            driver.find_element_by_class_name(\n",
    "                'we-customer-review__body--modal').text) #리뷰 코멘트\n",
    "        \n",
    "        # 박스 닫기\n",
    "        exit = driver.find_element_by_class_name('we-modal__close')\n",
    "        exit.click()\n",
    "        print(id, '더 보기 클릭')\n",
    "\n",
    "    except:\n",
    "        review.append(driver.find_element_by_id(f'{id[1]}').\\\n",
    "                      find_element_by_class_name('we-clamp').text) #리뷰 코멘트\n",
    "        print(id, 'pass')\n",
    "\n",
    "print('\\n 크롤링 완료')"
   ]
  },
  {
   "cell_type": "markdown",
   "id": "29a9aa5a",
   "metadata": {},
   "source": [
    "# 2. 크롤링 데이터 전처리"
   ]
  },
  {
   "cell_type": "code",
   "execution_count": 33,
   "id": "070432fe",
   "metadata": {
    "ExecuteTime": {
     "end_time": "2021-08-05T09:22:44.318259Z",
     "start_time": "2021-08-05T09:22:42.675749Z"
    }
   },
   "outputs": [
    {
     "data": {
      "text/plain": [
       "(45, 45, 45, 45)"
      ]
     },
     "execution_count": 33,
     "metadata": {},
     "output_type": "execute_result"
    }
   ],
   "source": [
    "title_lst = []\n",
    "for i in title:\n",
    "    if i.text != '개발자 답변':\n",
    "        title_lst.append(i.text)\n",
    "\n",
    "user_lst = []\n",
    "for i in user:\n",
    "    user_lst.append(i.text)\n",
    "\n",
    "date_lst = []\n",
    "for i in date:\n",
    "    z = i.get_attribute('aria-label')\n",
    "    date_lst.append(\n",
    "        # str -> datetime 변환\n",
    "        datetime.datetime.strptime(\n",
    "            z.replace('년 ', '-').replace('월 ', '-').replace('일', ''),\n",
    "            \"%Y-%m-%d\"))\n",
    "\n",
    "stars_lst = []\n",
    "for i in stars:\n",
    "    stars_lst.append(\n",
    "        # int로 변환\n",
    "        int(i.get_attribute('aria-label').split('/')[0])\n",
    "    )\n",
    "\n",
    "len(title_lst), len(date_lst), len(stars_lst), len(user_lst)"
   ]
  },
  {
   "cell_type": "code",
   "execution_count": 44,
   "id": "bc48f8ec",
   "metadata": {
    "ExecuteTime": {
     "end_time": "2021-08-05T09:29:15.074311Z",
     "start_time": "2021-08-05T09:29:15.059497Z"
    }
   },
   "outputs": [
    {
     "name": "stdout",
     "output_type": "stream",
     "text": [
      "(45, 6)\n",
      "app                object\n",
      "title              object\n",
      "user               object\n",
      "date       datetime64[ns]\n",
      "stars               int64\n",
      "comment            object\n",
      "dtype: object\n"
     ]
    },
    {
     "data": {
      "text/html": [
       "<div>\n",
       "<style scoped>\n",
       "    .dataframe tbody tr th:only-of-type {\n",
       "        vertical-align: middle;\n",
       "    }\n",
       "\n",
       "    .dataframe tbody tr th {\n",
       "        vertical-align: top;\n",
       "    }\n",
       "\n",
       "    .dataframe thead th {\n",
       "        text-align: right;\n",
       "    }\n",
       "</style>\n",
       "<table border=\"1\" class=\"dataframe\">\n",
       "  <thead>\n",
       "    <tr style=\"text-align: right;\">\n",
       "      <th></th>\n",
       "      <th>app</th>\n",
       "      <th>title</th>\n",
       "      <th>user</th>\n",
       "      <th>date</th>\n",
       "      <th>stars</th>\n",
       "      <th>comment</th>\n",
       "    </tr>\n",
       "  </thead>\n",
       "  <tbody>\n",
       "    <tr>\n",
       "      <th>0</th>\n",
       "      <td>자란다</td>\n",
       "      <td>좋아요</td>\n",
       "      <td>maum.c</td>\n",
       "      <td>2019-10-31</td>\n",
       "      <td>5</td>\n",
       "      <td>원래 쓰고 있었는데 앱 나오니 훨씬 편하고 좋아요 나름 꽤 초창기부터 써왔는데 점점...</td>\n",
       "    </tr>\n",
       "    <tr>\n",
       "      <th>1</th>\n",
       "      <td>자란다</td>\n",
       "      <td>드디어 앱이 나왔군요~~!</td>\n",
       "      <td>파랑땡땡구리</td>\n",
       "      <td>2019-07-13</td>\n",
       "      <td>5</td>\n",
       "      <td>항상 감사하고 있습니다. 우리 애들 자란다 선생님 너무 좋아해요. 계속 자란다 선생...</td>\n",
       "    </tr>\n",
       "    <tr>\n",
       "      <th>2</th>\n",
       "      <td>자란다</td>\n",
       "      <td>선생님이 너무좋았답니다.</td>\n",
       "      <td>terry11117</td>\n",
       "      <td>2020-03-26</td>\n",
       "      <td>5</td>\n",
       "      <td>다른 돌봄회사들보다 체계적이어서 감동받았어요. 우선 자란다 선생님의 선택의 폭이 넓...</td>\n",
       "    </tr>\n",
       "    <tr>\n",
       "      <th>3</th>\n",
       "      <td>자란다</td>\n",
       "      <td>아이들이 자란다 선생님을 너무 좋아해요~~</td>\n",
       "      <td>ysmom23</td>\n",
       "      <td>2019-09-19</td>\n",
       "      <td>5</td>\n",
       "      <td>엄마는 힘들어서 못해주는 몸으로 놀아주기.. 자란쌤이 아이와 함께 놀아주니 아이가 ...</td>\n",
       "    </tr>\n",
       "    <tr>\n",
       "      <th>4</th>\n",
       "      <td>자란다</td>\n",
       "      <td>맞벌이 부부에게 큰 힘이 됩니다</td>\n",
       "      <td>별2개</td>\n",
       "      <td>2021-07-30</td>\n",
       "      <td>5</td>\n",
       "      <td>이런 리뷰를 잘 안쓰는데 자란다에게 고마운 마음을 표현하고자 끄적여봅니다^^\\n\\n...</td>\n",
       "    </tr>\n",
       "  </tbody>\n",
       "</table>\n",
       "</div>"
      ],
      "text/plain": [
       "   app                    title        user       date  stars  \\\n",
       "0  자란다                      좋아요      maum.c 2019-10-31      5   \n",
       "1  자란다           드디어 앱이 나왔군요~~!      파랑땡땡구리 2019-07-13      5   \n",
       "2  자란다            선생님이 너무좋았답니다.  terry11117 2020-03-26      5   \n",
       "3  자란다  아이들이 자란다 선생님을 너무 좋아해요~~     ysmom23 2019-09-19      5   \n",
       "4  자란다        맞벌이 부부에게 큰 힘이 됩니다         별2개 2021-07-30      5   \n",
       "\n",
       "                                             comment  \n",
       "0  원래 쓰고 있었는데 앱 나오니 훨씬 편하고 좋아요 나름 꽤 초창기부터 써왔는데 점점...  \n",
       "1  항상 감사하고 있습니다. 우리 애들 자란다 선생님 너무 좋아해요. 계속 자란다 선생...  \n",
       "2  다른 돌봄회사들보다 체계적이어서 감동받았어요. 우선 자란다 선생님의 선택의 폭이 넓...  \n",
       "3  엄마는 힘들어서 못해주는 몸으로 놀아주기.. 자란쌤이 아이와 함께 놀아주니 아이가 ...  \n",
       "4  이런 리뷰를 잘 안쓰는데 자란다에게 고마운 마음을 표현하고자 끄적여봅니다^^\\n\\n...  "
      ]
     },
     "execution_count": 44,
     "metadata": {},
     "output_type": "execute_result"
    }
   ],
   "source": [
    "df = pd.DataFrame()\n",
    "\n",
    "df['app'] = ['자란다' for i in range(len(title_lst))]\n",
    "df['title'] = title_lst\n",
    "df['user'] = user_lst\n",
    "df['date'] = date_lst\n",
    "df['stars'] = stars_lst\n",
    "df['comment'] = review\n",
    "\n",
    "\n",
    "print(df.shape)\n",
    "print(df.dtypes)\n",
    "df.head()"
   ]
  },
  {
   "cell_type": "markdown",
   "id": "2cb2bd64",
   "metadata": {},
   "source": [
    "# 3. 빅쿼리로 전송"
   ]
  },
  {
   "cell_type": "markdown",
   "id": "f44ba485",
   "metadata": {},
   "source": [
    "## 3-1. 빅쿼리로 전송"
   ]
  },
  {
   "cell_type": "code",
   "execution_count": 35,
   "id": "3e7c9093",
   "metadata": {
    "ExecuteTime": {
     "end_time": "2021-08-05T09:22:55.842311Z",
     "start_time": "2021-08-05T09:22:55.840038Z"
    }
   },
   "outputs": [],
   "source": [
    "from google.oauth2 import service_account\n",
    "import pandas_gbq"
   ]
  },
  {
   "cell_type": "code",
   "execution_count": 46,
   "id": "705e195a",
   "metadata": {
    "ExecuteTime": {
     "end_time": "2021-08-05T09:29:56.930073Z",
     "start_time": "2021-08-05T09:29:53.422690Z"
    }
   },
   "outputs": [
    {
     "name": "stderr",
     "output_type": "stream",
     "text": [
      "1it [00:02,  2.76s/it]"
     ]
    },
    {
     "name": "stdout",
     "output_type": "stream",
     "text": [
      "migration complete\n"
     ]
    },
    {
     "name": "stderr",
     "output_type": "stream",
     "text": [
      "\n"
     ]
    }
   ],
   "source": [
    "cd = service_account.Credentials.from_service_account_file(\n",
    "    '/Users/choeinbeom/Downloads/tidal-surf-302413-582aad3f1e46.json')\n",
    "project_id = 'tidal-surf-302413'\n",
    "destination_table = 'test_jaranda.reviews'\n",
    "df.to_gbq(destination_table,project_id,if_exists='append',credentials=cd) \n",
    "print('migration complete')"
   ]
  },
  {
   "cell_type": "markdown",
   "id": "aeac65ff",
   "metadata": {},
   "source": [
    "## 3-2. 빅쿼리 데이터 로드 및 확인"
   ]
  },
  {
   "cell_type": "code",
   "execution_count": 3,
   "id": "ccca9f12",
   "metadata": {
    "ExecuteTime": {
     "end_time": "2021-08-05T09:10:08.906429Z",
     "start_time": "2021-08-05T09:10:08.283165Z"
    }
   },
   "outputs": [],
   "source": [
    "from google.cloud import bigquery"
   ]
  },
  {
   "cell_type": "code",
   "execution_count": 41,
   "id": "5147b03d",
   "metadata": {
    "ExecuteTime": {
     "end_time": "2021-08-05T09:28:10.678757Z",
     "start_time": "2021-08-05T09:28:05.555126Z"
    }
   },
   "outputs": [
    {
     "name": "stdout",
     "output_type": "stream",
     "text": [
      "(339, 6)\n",
      "title                   object\n",
      "user                    object\n",
      "date       datetime64[ns, UTC]\n",
      "stars                    int64\n",
      "comment                 object\n",
      "app                     object\n",
      "dtype: object\n"
     ]
    },
    {
     "data": {
      "text/html": [
       "<div>\n",
       "<style scoped>\n",
       "    .dataframe tbody tr th:only-of-type {\n",
       "        vertical-align: middle;\n",
       "    }\n",
       "\n",
       "    .dataframe tbody tr th {\n",
       "        vertical-align: top;\n",
       "    }\n",
       "\n",
       "    .dataframe thead th {\n",
       "        text-align: right;\n",
       "    }\n",
       "</style>\n",
       "<table border=\"1\" class=\"dataframe\">\n",
       "  <thead>\n",
       "    <tr style=\"text-align: right;\">\n",
       "      <th></th>\n",
       "      <th>title</th>\n",
       "      <th>user</th>\n",
       "      <th>date</th>\n",
       "      <th>stars</th>\n",
       "      <th>comment</th>\n",
       "      <th>app</th>\n",
       "    </tr>\n",
       "  </thead>\n",
       "  <tbody>\n",
       "    <tr>\n",
       "      <th>0</th>\n",
       "      <td>회원탈퇴</td>\n",
       "      <td>구름바이러스</td>\n",
       "      <td>2019-12-10 00:00:00+00:00</td>\n",
       "      <td>5</td>\n",
       "      <td>회원탈퇴 어떻게 하나요 선생님 지원하려다 앱 따로있는거 모르고 가입했는데</td>\n",
       "      <td>자란다</td>\n",
       "    </tr>\n",
       "    <tr>\n",
       "      <th>1</th>\n",
       "      <td>선생님들이 우수해요</td>\n",
       "      <td>nikiiiiaaaasss</td>\n",
       "      <td>2020-09-23 00:00:00+00:00</td>\n",
       "      <td>5</td>\n",
       "      <td>평균적으로 우수한 선생님이 많아요. 교사관리가\\n잘 되고있는것 같아요</td>\n",
       "      <td>자란다</td>\n",
       "    </tr>\n",
       "    <tr>\n",
       "      <th>2</th>\n",
       "      <td>좋아요</td>\n",
       "      <td>maum.c</td>\n",
       "      <td>2019-10-31 00:00:00+00:00</td>\n",
       "      <td>5</td>\n",
       "      <td>원래 쓰고 있었는데 앱 나오니 훨씬 편하고 좋아요 나름 꽤 초창기부터 써왔는데 점점...</td>\n",
       "      <td>자란다</td>\n",
       "    </tr>\n",
       "    <tr>\n",
       "      <th>3</th>\n",
       "      <td>덕분에 아이도 저도 잘 놀아요</td>\n",
       "      <td>Ameri.cano</td>\n",
       "      <td>2019-10-31 00:00:00+00:00</td>\n",
       "      <td>5</td>\n",
       "      <td>자란다 서비스를 쓴건 솔직히 아이를 위해서이기도 했지만, 저를 위해서 이기도 했어요...</td>\n",
       "      <td>자란다</td>\n",
       "    </tr>\n",
       "    <tr>\n",
       "      <th>4</th>\n",
       "      <td>자란다 앱 너무 편하네요</td>\n",
       "      <td>노수지</td>\n",
       "      <td>2019-10-31 00:00:00+00:00</td>\n",
       "      <td>5</td>\n",
       "      <td>예전에 웹으로 사용했었는데 정말 앱이 나와서 사용하기 편리해졌네요. 항상 느끼는거지...</td>\n",
       "      <td>자란다</td>\n",
       "    </tr>\n",
       "  </tbody>\n",
       "</table>\n",
       "</div>"
      ],
      "text/plain": [
       "              title            user                      date  stars  \\\n",
       "0              회원탈퇴          구름바이러스 2019-12-10 00:00:00+00:00      5   \n",
       "1        선생님들이 우수해요  nikiiiiaaaasss 2020-09-23 00:00:00+00:00      5   \n",
       "2               좋아요          maum.c 2019-10-31 00:00:00+00:00      5   \n",
       "3  덕분에 아이도 저도 잘 놀아요      Ameri.cano 2019-10-31 00:00:00+00:00      5   \n",
       "4     자란다 앱 너무 편하네요             노수지 2019-10-31 00:00:00+00:00      5   \n",
       "\n",
       "                                             comment  app  \n",
       "0           회원탈퇴 어떻게 하나요 선생님 지원하려다 앱 따로있는거 모르고 가입했는데  자란다  \n",
       "1             평균적으로 우수한 선생님이 많아요. 교사관리가\\n잘 되고있는것 같아요  자란다  \n",
       "2  원래 쓰고 있었는데 앱 나오니 훨씬 편하고 좋아요 나름 꽤 초창기부터 써왔는데 점점...  자란다  \n",
       "3  자란다 서비스를 쓴건 솔직히 아이를 위해서이기도 했지만, 저를 위해서 이기도 했어요...  자란다  \n",
       "4  예전에 웹으로 사용했었는데 정말 앱이 나와서 사용하기 편리해졌네요. 항상 느끼는거지...  자란다  "
      ]
     },
     "execution_count": 41,
     "metadata": {},
     "output_type": "execute_result"
    }
   ],
   "source": [
    "cd = service_account.Credentials.from_service_account_file(\n",
    "    '/Users/choeinbeom/Downloads/tidal-surf-302413-582aad3f1e46.json')\n",
    "\n",
    "\n",
    "client = bigquery.Client (project = 'tidal-surf-302413' , credentials = cd) \n",
    "query = 'SELECT * FROM test_jaranda.reviews' \n",
    "\n",
    "df_result = client.query(query).to_dataframe()\n",
    "\n",
    "print(df_result.shape)\n",
    "print(df_result.dtypes)\n",
    "\n",
    "df_result.head()"
   ]
  },
  {
   "cell_type": "code",
   "execution_count": 43,
   "id": "2206f726",
   "metadata": {
    "ExecuteTime": {
     "end_time": "2021-08-05T09:29:00.038492Z",
     "start_time": "2021-08-05T09:29:00.035757Z"
    }
   },
   "outputs": [],
   "source": [
    "crong = df_result[df_result['app']=='째깍악어']\n"
   ]
  },
  {
   "cell_type": "code",
   "execution_count": 26,
   "id": "27cf5020",
   "metadata": {
    "ExecuteTime": {
     "end_time": "2021-08-05T09:20:19.398735Z",
     "start_time": "2021-08-05T09:20:19.384635Z"
    }
   },
   "outputs": [
    {
     "data": {
      "text/html": [
       "<div>\n",
       "<style scoped>\n",
       "    .dataframe tbody tr th:only-of-type {\n",
       "        vertical-align: middle;\n",
       "    }\n",
       "\n",
       "    .dataframe tbody tr th {\n",
       "        vertical-align: top;\n",
       "    }\n",
       "\n",
       "    .dataframe thead th {\n",
       "        text-align: right;\n",
       "    }\n",
       "</style>\n",
       "<table border=\"1\" class=\"dataframe\">\n",
       "  <thead>\n",
       "    <tr style=\"text-align: right;\">\n",
       "      <th></th>\n",
       "      <th>title</th>\n",
       "      <th>user</th>\n",
       "      <th>date</th>\n",
       "      <th>stars</th>\n",
       "      <th>comment</th>\n",
       "      <th>app</th>\n",
       "    </tr>\n",
       "  </thead>\n",
       "  <tbody>\n",
       "    <tr>\n",
       "      <th>40</th>\n",
       "      <td>선생님 관리가 제대로 안되는듯</td>\n",
       "      <td>nkein82</td>\n",
       "      <td>2021-06-08 00:00:00+00:00</td>\n",
       "      <td>5</td>\n",
       "      <td>예약하고 결재까지 다했는데 뜬금없이 그날은 안된다면서 하루전에 일방적으로 취소해달라...</td>\n",
       "      <td>자란다</td>\n",
       "    </tr>\n",
       "    <tr>\n",
       "      <th>46</th>\n",
       "      <td>신청서작성시 단계가 안 넘어가요!!!</td>\n",
       "      <td>사용하고싶어요!</td>\n",
       "      <td>2021-05-19 00:00:00+00:00</td>\n",
       "      <td>1</td>\n",
       "      <td>너무 화가나려하네요! 방문일정 등록하려는데 방문 종류 선택할때도 터치가 안먹는건지 ...</td>\n",
       "      <td>자란다</td>\n",
       "    </tr>\n",
       "    <tr>\n",
       "      <th>44</th>\n",
       "      <td>워킹맘은 절대 쓰지 마세요</td>\n",
       "      <td>VIP멤버펑</td>\n",
       "      <td>2021-03-31 00:00:00+00:00</td>\n",
       "      <td>1</td>\n",
       "      <td>일부러 추천율 100프로인 잘자란 선생님 골라서 (돌봄 시간도 100시간 넘는) 신...</td>\n",
       "      <td>자란다</td>\n",
       "    </tr>\n",
       "    <tr>\n",
       "      <th>33</th>\n",
       "      <td>너무 자주 어플이 먹통이 되어요ㅠㅠ</td>\n",
       "      <td>11166554443388</td>\n",
       "      <td>2021-03-17 00:00:00+00:00</td>\n",
       "      <td>5</td>\n",
       "      <td>자주 수업 리스트도 뜨지 않고 어플이 부팅되는데 너무 오래 걸려요ㅠㅠ</td>\n",
       "      <td>자란다</td>\n",
       "    </tr>\n",
       "    <tr>\n",
       "      <th>47</th>\n",
       "      <td>회원탈퇴 기능이 없네요</td>\n",
       "      <td>hhhhhhhh28472919</td>\n",
       "      <td>2021-01-22 00:00:00+00:00</td>\n",
       "      <td>1</td>\n",
       "      <td>너무 찜찜하고 신고하려다 말았는데 회원 탈퇴 기능 만들어주세요\\n이런걸 리뷰에 써야...</td>\n",
       "      <td>자란다</td>\n",
       "    </tr>\n",
       "    <tr>\n",
       "      <th>24</th>\n",
       "      <td>ㅇㅇㅇㅇ</td>\n",
       "      <td>Icefall입니다</td>\n",
       "      <td>2020-11-27 00:00:00+00:00</td>\n",
       "      <td>5</td>\n",
       "      <td>카카오페이 등록 안됨 앱 느리고 오류 많음 ㅠ\\n선생님 보다가 뒤로가기 안뎀</td>\n",
       "      <td>자란다</td>\n",
       "    </tr>\n",
       "    <tr>\n",
       "      <th>36</th>\n",
       "      <td>오늘 자란다의 일방적 “신청취소” 후 느낀점</td>\n",
       "      <td>사노리</td>\n",
       "      <td>2020-09-25 00:00:00+00:00</td>\n",
       "      <td>5</td>\n",
       "      <td>초1아들 영어 첫공부에 대한 블로그 추천글이 많아 학원보내기 불안한 시기에 적절히 ...</td>\n",
       "      <td>자란다</td>\n",
       "    </tr>\n",
       "    <tr>\n",
       "      <th>52</th>\n",
       "      <td>아이폰에서 최근에 계속 로딩만 뜨고 넘어가지를 않네요 ㅠㅠ 저만 그런건가요</td>\n",
       "      <td>저만안되나요</td>\n",
       "      <td>2020-08-04 00:00:00+00:00</td>\n",
       "      <td>2</td>\n",
       "      <td>앱 실행하면 첫 화면에서 로딩 아이콘만 뜨고 넘어가지를 못하네요. 잠깐 그런가보다 ...</td>\n",
       "      <td>자란다</td>\n",
       "    </tr>\n",
       "    <tr>\n",
       "      <th>32</th>\n",
       "      <td>탈퇴방법</td>\n",
       "      <td>ㅜㅏ나니미</td>\n",
       "      <td>2020-06-26 00:00:00+00:00</td>\n",
       "      <td>5</td>\n",
       "      <td>선생님 가입하려했는데 실수로 부모님으로 가입해서 다시 가입하려니까 이미 핸드폰번호가...</td>\n",
       "      <td>자란다</td>\n",
       "    </tr>\n",
       "    <tr>\n",
       "      <th>8</th>\n",
       "      <td>좋은 선생님 추천</td>\n",
       "      <td>해해해햇</td>\n",
       "      <td>2020-01-27 00:00:00+00:00</td>\n",
       "      <td>5</td>\n",
       "      <td>좋은 선생님이 너무 좋아요</td>\n",
       "      <td>자란다</td>\n",
       "    </tr>\n",
       "    <tr>\n",
       "      <th>0</th>\n",
       "      <td>회원탈퇴</td>\n",
       "      <td>구름바이러스</td>\n",
       "      <td>2019-12-10 00:00:00+00:00</td>\n",
       "      <td>5</td>\n",
       "      <td>회원탈퇴 어떻게 하나요 선생님 지원하려다 앱 따로있는거 모르고 가입했는데</td>\n",
       "      <td>자란다</td>\n",
       "    </tr>\n",
       "    <tr>\n",
       "      <th>54</th>\n",
       "      <td>회원탈퇴</td>\n",
       "      <td>마사룰루랄ㄹ라</td>\n",
       "      <td>2019-10-31 00:00:00+00:00</td>\n",
       "      <td>4</td>\n",
       "      <td>앱과 웹 모두 뒤져보아도 회원탈퇴 기능이 없네요. 업데이트 바랍니다.</td>\n",
       "      <td>자란다</td>\n",
       "    </tr>\n",
       "  </tbody>\n",
       "</table>\n",
       "</div>"
      ],
      "text/plain": [
       "                                        title              user  \\\n",
       "40                           선생님 관리가 제대로 안되는듯           nkein82   \n",
       "46                       신청서작성시 단계가 안 넘어가요!!!          사용하고싶어요!   \n",
       "44                             워킹맘은 절대 쓰지 마세요            VIP멤버펑   \n",
       "33                        너무 자주 어플이 먹통이 되어요ㅠㅠ    11166554443388   \n",
       "47                               회원탈퇴 기능이 없네요  hhhhhhhh28472919   \n",
       "24                                       ㅇㅇㅇㅇ        Icefall입니다   \n",
       "36                   오늘 자란다의 일방적 “신청취소” 후 느낀점               사노리   \n",
       "52  아이폰에서 최근에 계속 로딩만 뜨고 넘어가지를 않네요 ㅠㅠ 저만 그런건가요            저만안되나요   \n",
       "32                                       탈퇴방법             ㅜㅏ나니미   \n",
       "8                                   좋은 선생님 추천              해해해햇   \n",
       "0                                        회원탈퇴            구름바이러스   \n",
       "54                                       회원탈퇴           마사룰루랄ㄹ라   \n",
       "\n",
       "                        date  stars  \\\n",
       "40 2021-06-08 00:00:00+00:00      5   \n",
       "46 2021-05-19 00:00:00+00:00      1   \n",
       "44 2021-03-31 00:00:00+00:00      1   \n",
       "33 2021-03-17 00:00:00+00:00      5   \n",
       "47 2021-01-22 00:00:00+00:00      1   \n",
       "24 2020-11-27 00:00:00+00:00      5   \n",
       "36 2020-09-25 00:00:00+00:00      5   \n",
       "52 2020-08-04 00:00:00+00:00      2   \n",
       "32 2020-06-26 00:00:00+00:00      5   \n",
       "8  2020-01-27 00:00:00+00:00      5   \n",
       "0  2019-12-10 00:00:00+00:00      5   \n",
       "54 2019-10-31 00:00:00+00:00      4   \n",
       "\n",
       "                                              comment  app  \n",
       "40  예약하고 결재까지 다했는데 뜬금없이 그날은 안된다면서 하루전에 일방적으로 취소해달라...  자란다  \n",
       "46  너무 화가나려하네요! 방문일정 등록하려는데 방문 종류 선택할때도 터치가 안먹는건지 ...  자란다  \n",
       "44  일부러 추천율 100프로인 잘자란 선생님 골라서 (돌봄 시간도 100시간 넘는) 신...  자란다  \n",
       "33             자주 수업 리스트도 뜨지 않고 어플이 부팅되는데 너무 오래 걸려요ㅠㅠ  자란다  \n",
       "47  너무 찜찜하고 신고하려다 말았는데 회원 탈퇴 기능 만들어주세요\\n이런걸 리뷰에 써야...  자란다  \n",
       "24         카카오페이 등록 안됨 앱 느리고 오류 많음 ㅠ\\n선생님 보다가 뒤로가기 안뎀  자란다  \n",
       "36  초1아들 영어 첫공부에 대한 블로그 추천글이 많아 학원보내기 불안한 시기에 적절히 ...  자란다  \n",
       "52  앱 실행하면 첫 화면에서 로딩 아이콘만 뜨고 넘어가지를 못하네요. 잠깐 그런가보다 ...  자란다  \n",
       "32  선생님 가입하려했는데 실수로 부모님으로 가입해서 다시 가입하려니까 이미 핸드폰번호가...  자란다  \n",
       "8                                      좋은 선생님이 너무 좋아요  자란다  \n",
       "0            회원탈퇴 어떻게 하나요 선생님 지원하려다 앱 따로있는거 모르고 가입했는데  자란다  \n",
       "54             앱과 웹 모두 뒤져보아도 회원탈퇴 기능이 없네요. 업데이트 바랍니다.  자란다  "
      ]
     },
     "execution_count": 26,
     "metadata": {},
     "output_type": "execute_result"
    }
   ],
   "source": [
    "newjrd = df_result[df_result['app']=='자란다'].sort_values(by = 'date', ascending=False)\n",
    "\n",
    "newjrd[newjrd[['title', 'user']].duplicated()]"
   ]
  },
  {
   "cell_type": "code",
   "execution_count": null,
   "id": "ebf79abe",
   "metadata": {},
   "outputs": [],
   "source": []
  },
  {
   "cell_type": "code",
   "execution_count": null,
   "id": "e5fbe964",
   "metadata": {},
   "outputs": [],
   "source": []
  },
  {
   "cell_type": "code",
   "execution_count": null,
   "id": "befdc495",
   "metadata": {},
   "outputs": [],
   "source": []
  }
 ],
 "metadata": {
  "hide_input": false,
  "kernelspec": {
   "display_name": "Python 3",
   "language": "python",
   "name": "python3"
  },
  "language_info": {
   "codemirror_mode": {
    "name": "ipython",
    "version": 3
   },
   "file_extension": ".py",
   "mimetype": "text/x-python",
   "name": "python",
   "nbconvert_exporter": "python",
   "pygments_lexer": "ipython3",
   "version": "3.8.8"
  },
  "varInspector": {
   "cols": {
    "lenName": 16,
    "lenType": 16,
    "lenVar": 40
   },
   "kernels_config": {
    "python": {
     "delete_cmd_postfix": "",
     "delete_cmd_prefix": "del ",
     "library": "var_list.py",
     "varRefreshCmd": "print(var_dic_list())"
    },
    "r": {
     "delete_cmd_postfix": ") ",
     "delete_cmd_prefix": "rm(",
     "library": "var_list.r",
     "varRefreshCmd": "cat(var_dic_list()) "
    }
   },
   "position": {
    "height": "300px",
    "left": "1422px",
    "right": "20px",
    "top": "120px",
    "width": "350px"
   },
   "types_to_exclude": [
    "module",
    "function",
    "builtin_function_or_method",
    "instance",
    "_Feature"
   ],
   "window_display": false
  }
 },
 "nbformat": 4,
 "nbformat_minor": 5
}
